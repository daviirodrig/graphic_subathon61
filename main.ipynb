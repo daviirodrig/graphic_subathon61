{
 "cells": [
  {
   "cell_type": "code",
   "execution_count": null,
   "metadata": {},
   "outputs": [],
   "source": [
    "from generate_graph import generate_all_images, generate_video, interpolate_timer\n",
    "from models import Result\n",
    "from parse_logs import main as parse_logs\n",
    "\n",
    "start_time, end_time = \"2023-06-21T00:00:00.000Z\", \"2025-06-22T00:00:00.000Z\"\n",
    "logs = parse_logs(\"logs-05-01--02.log\")\n",
    "if logs is None:\n",
    "    print(\"No logs found\")\n",
    "    exit(1)\n",
    "print(f\"Loaded {len(logs)} data points from logs\")\n",
    "\n",
    "results: list[Result] = []\n",
    "for result in logs:\n",
    "    if result.timestamp >= start_time and result.timestamp <= end_time:\n",
    "        results.append(result)\n",
    "\n",
    "print(f\"Filtered {len(results)} data points within the specified time range\")"
   ]
  },
  {
   "cell_type": "code",
   "execution_count": null,
   "metadata": {},
   "outputs": [],
   "source": [
    "interpolated_results = interpolate_timer(results)"
   ]
  },
  {
   "cell_type": "code",
   "execution_count": null,
   "metadata": {},
   "outputs": [],
   "source": [
    "generate_all_images(interpolated_results)"
   ]
  },
  {
   "cell_type": "code",
   "execution_count": null,
   "metadata": {},
   "outputs": [],
   "source": [
    "generate_video(\"images\", \"output_video.mp4\")"
   ]
  }
 ],
 "metadata": {
  "kernelspec": {
   "display_name": ".venv",
   "language": "python",
   "name": "python3"
  },
  "language_info": {
   "name": "python",
   "version": "3.12.4"
  }
 },
 "nbformat": 4,
 "nbformat_minor": 2
}
